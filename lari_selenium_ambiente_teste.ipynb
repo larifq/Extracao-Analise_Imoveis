{
 "cells": [
  {
   "cell_type": "code",
   "execution_count": 16,
   "metadata": {},
   "outputs": [
    {
     "name": "stdout",
     "output_type": "stream",
     "text": [
      "Defaulting to user installation because normal site-packages is not writeable\n",
      "Requirement already satisfied: pyppeteer in /home/larifq/.local/lib/python3.12/site-packages (2.0.0)\n",
      "Requirement already satisfied: appdirs<2.0.0,>=1.4.3 in /home/larifq/.local/lib/python3.12/site-packages (from pyppeteer) (1.4.4)\n",
      "Requirement already satisfied: certifi>=2023 in /home/larifq/.local/lib/python3.12/site-packages (from pyppeteer) (2024.12.14)\n",
      "Collecting importlib-metadata>=1.4 (from pyppeteer)\n",
      "  Downloading importlib_metadata-8.6.1-py3-none-any.whl.metadata (4.7 kB)\n",
      "Requirement already satisfied: pyee<12.0.0,>=11.0.0 in /home/larifq/.local/lib/python3.12/site-packages (from pyppeteer) (11.1.1)\n",
      "Requirement already satisfied: tqdm<5.0.0,>=4.42.1 in /home/larifq/.local/lib/python3.12/site-packages (from pyppeteer) (4.67.1)\n",
      "Requirement already satisfied: urllib3<2.0.0,>=1.25.8 in /home/larifq/.local/lib/python3.12/site-packages (from pyppeteer) (1.26.20)\n",
      "Requirement already satisfied: websockets<11.0,>=10.0 in /home/larifq/.local/lib/python3.12/site-packages (from pyppeteer) (10.4)\n",
      "Collecting zipp>=3.20 (from importlib-metadata>=1.4->pyppeteer)\n",
      "  Downloading zipp-3.21.0-py3-none-any.whl.metadata (3.7 kB)\n",
      "Requirement already satisfied: typing-extensions in /home/larifq/.local/lib/python3.12/site-packages (from pyee<12.0.0,>=11.0.0->pyppeteer) (4.12.2)\n",
      "Downloading importlib_metadata-8.6.1-py3-none-any.whl (26 kB)\n",
      "Downloading zipp-3.21.0-py3-none-any.whl (9.6 kB)\n",
      "Installing collected packages: zipp, importlib-metadata\n",
      "Successfully installed importlib-metadata-8.6.1 zipp-3.21.0\n",
      "\n",
      "\u001b[1m[\u001b[0m\u001b[34;49mnotice\u001b[0m\u001b[1;39;49m]\u001b[0m\u001b[39;49m A new release of pip is available: \u001b[0m\u001b[31;49m24.3.1\u001b[0m\u001b[39;49m -> \u001b[0m\u001b[32;49m25.0.1\u001b[0m\n",
      "\u001b[1m[\u001b[0m\u001b[34;49mnotice\u001b[0m\u001b[1;39;49m]\u001b[0m\u001b[39;49m To update, run: \u001b[0m\u001b[32;49m/usr/local/bin/python3.12 -m pip install --upgrade pip\u001b[0m\n"
     ]
    }
   ],
   "source": [
    "!pip install pyppeteer\n"
   ]
  },
  {
   "cell_type": "code",
   "execution_count": 1,
   "metadata": {},
   "outputs": [],
   "source": [
    "from selenium import webdriver\n",
    "from selenium.webdriver.chrome.service import Service\n",
    "from selenium.common.exceptions import NoSuchElementException\n",
    "from selenium.webdriver.chrome.options import Options\n",
    "from selenium.webdriver.common.by import By\n",
    "from webdriver_manager.chrome import ChromeDriverManager\n",
    "from selenium_stealth import stealth\n",
    "from time import sleep\n",
    "import random"
   ]
  },
  {
   "cell_type": "code",
   "execution_count": 6,
   "metadata": {},
   "outputs": [
    {
     "ename": "InvalidArgumentException",
     "evalue": "Message: invalid argument\n  (Session info: chrome=132.0.6834.110)\nStacktrace:\n#0 0x564a6107e53a <unknown>\n#1 0x564a60b79d5d <unknown>\n#2 0x564a60b618d4 <unknown>\n#3 0x564a60b5fda5 <unknown>\n#4 0x564a60b604ca <unknown>\n#5 0x564a60b7c879 <unknown>\n#6 0x564a60c0dbf5 <unknown>\n#7 0x564a60bee5a2 <unknown>\n#8 0x564a60c0cf84 <unknown>\n#9 0x564a60bee343 <unknown>\n#10 0x564a60bbb78a <unknown>\n#11 0x564a60bbc9de <unknown>\n#12 0x564a610482cb <unknown>\n#13 0x564a6104c242 <unknown>\n#14 0x564a610357ac <unknown>\n#15 0x564a6104cdf7 <unknown>\n#16 0x564a61019b2f <unknown>\n#17 0x564a6106d1a8 <unknown>\n#18 0x564a6106d370 <unknown>\n#19 0x564a6107d3b6 <unknown>\n#20 0x734b6ec94ac3 <unknown>\n",
     "output_type": "error",
     "traceback": [
      "\u001b[0;31m---------------------------------------------------------------------------\u001b[0m",
      "\u001b[0;31mInvalidArgumentException\u001b[0m                  Traceback (most recent call last)",
      "Cell \u001b[0;32mIn[6], line 11\u001b[0m\n\u001b[1;32m      9\u001b[0m sleep(random\u001b[38;5;241m.\u001b[39muniform(\u001b[38;5;241m3\u001b[39m, \u001b[38;5;241m8\u001b[39m))\n\u001b[1;32m     10\u001b[0m driver\u001b[38;5;241m.\u001b[39mexecute_script(\u001b[38;5;124m\"\u001b[39m\u001b[38;5;124mwindow.scrollTo(0, document.body.scrollHeight);\u001b[39m\u001b[38;5;124m\"\u001b[39m)\n\u001b[0;32m---> 11\u001b[0m \u001b[43mdriver\u001b[49m\u001b[38;5;241;43m.\u001b[39;49m\u001b[43mget\u001b[49m\u001b[43m(\u001b[49m\u001b[38;5;124;43m\"\u001b[39;49m\u001b[38;5;124;43mwww.imovelweb.com.br/propriedades/apartamento-com-3-dormitorios-sendo-1-suite-para-3002370897.html\u001b[39;49m\u001b[38;5;124;43m\"\u001b[39;49m\u001b[43m)\u001b[49m\n",
      "File \u001b[0;32m~/.local/lib/python3.12/site-packages/selenium/webdriver/remote/webdriver.py:454\u001b[0m, in \u001b[0;36mWebDriver.get\u001b[0;34m(self, url)\u001b[0m\n\u001b[1;32m    436\u001b[0m \u001b[38;5;28;01mdef\u001b[39;00m\u001b[38;5;250m \u001b[39m\u001b[38;5;21mget\u001b[39m(\u001b[38;5;28mself\u001b[39m, url: \u001b[38;5;28mstr\u001b[39m) \u001b[38;5;241m-\u001b[39m\u001b[38;5;241m>\u001b[39m \u001b[38;5;28;01mNone\u001b[39;00m:\n\u001b[1;32m    437\u001b[0m \u001b[38;5;250m    \u001b[39m\u001b[38;5;124;03m\"\"\"Navigate the browser to the specified URL in the current window or\u001b[39;00m\n\u001b[1;32m    438\u001b[0m \u001b[38;5;124;03m    tab.\u001b[39;00m\n\u001b[1;32m    439\u001b[0m \n\u001b[0;32m   (...)\u001b[0m\n\u001b[1;32m    452\u001b[0m \u001b[38;5;124;03m    >>> driver.get(\"https://example.com\")\u001b[39;00m\n\u001b[1;32m    453\u001b[0m \u001b[38;5;124;03m    \"\"\"\u001b[39;00m\n\u001b[0;32m--> 454\u001b[0m     \u001b[38;5;28;43mself\u001b[39;49m\u001b[38;5;241;43m.\u001b[39;49m\u001b[43mexecute\u001b[49m\u001b[43m(\u001b[49m\u001b[43mCommand\u001b[49m\u001b[38;5;241;43m.\u001b[39;49m\u001b[43mGET\u001b[49m\u001b[43m,\u001b[49m\u001b[43m \u001b[49m\u001b[43m{\u001b[49m\u001b[38;5;124;43m\"\u001b[39;49m\u001b[38;5;124;43murl\u001b[39;49m\u001b[38;5;124;43m\"\u001b[39;49m\u001b[43m:\u001b[49m\u001b[43m \u001b[49m\u001b[43murl\u001b[49m\u001b[43m}\u001b[49m\u001b[43m)\u001b[49m\n",
      "File \u001b[0;32m~/.local/lib/python3.12/site-packages/selenium/webdriver/remote/webdriver.py:429\u001b[0m, in \u001b[0;36mWebDriver.execute\u001b[0;34m(self, driver_command, params)\u001b[0m\n\u001b[1;32m    427\u001b[0m response \u001b[38;5;241m=\u001b[39m \u001b[38;5;28mself\u001b[39m\u001b[38;5;241m.\u001b[39mcommand_executor\u001b[38;5;241m.\u001b[39mexecute(driver_command, params)\n\u001b[1;32m    428\u001b[0m \u001b[38;5;28;01mif\u001b[39;00m response:\n\u001b[0;32m--> 429\u001b[0m     \u001b[38;5;28;43mself\u001b[39;49m\u001b[38;5;241;43m.\u001b[39;49m\u001b[43merror_handler\u001b[49m\u001b[38;5;241;43m.\u001b[39;49m\u001b[43mcheck_response\u001b[49m\u001b[43m(\u001b[49m\u001b[43mresponse\u001b[49m\u001b[43m)\u001b[49m\n\u001b[1;32m    430\u001b[0m     response[\u001b[38;5;124m\"\u001b[39m\u001b[38;5;124mvalue\u001b[39m\u001b[38;5;124m\"\u001b[39m] \u001b[38;5;241m=\u001b[39m \u001b[38;5;28mself\u001b[39m\u001b[38;5;241m.\u001b[39m_unwrap_value(response\u001b[38;5;241m.\u001b[39mget(\u001b[38;5;124m\"\u001b[39m\u001b[38;5;124mvalue\u001b[39m\u001b[38;5;124m\"\u001b[39m, \u001b[38;5;28;01mNone\u001b[39;00m))\n\u001b[1;32m    431\u001b[0m     \u001b[38;5;28;01mreturn\u001b[39;00m response\n",
      "File \u001b[0;32m~/.local/lib/python3.12/site-packages/selenium/webdriver/remote/errorhandler.py:232\u001b[0m, in \u001b[0;36mErrorHandler.check_response\u001b[0;34m(self, response)\u001b[0m\n\u001b[1;32m    230\u001b[0m         alert_text \u001b[38;5;241m=\u001b[39m value[\u001b[38;5;124m\"\u001b[39m\u001b[38;5;124malert\u001b[39m\u001b[38;5;124m\"\u001b[39m]\u001b[38;5;241m.\u001b[39mget(\u001b[38;5;124m\"\u001b[39m\u001b[38;5;124mtext\u001b[39m\u001b[38;5;124m\"\u001b[39m)\n\u001b[1;32m    231\u001b[0m     \u001b[38;5;28;01mraise\u001b[39;00m exception_class(message, screen, stacktrace, alert_text)  \u001b[38;5;66;03m# type: ignore[call-arg]  # mypy is not smart enough here\u001b[39;00m\n\u001b[0;32m--> 232\u001b[0m \u001b[38;5;28;01mraise\u001b[39;00m exception_class(message, screen, stacktrace)\n",
      "\u001b[0;31mInvalidArgumentException\u001b[0m: Message: invalid argument\n  (Session info: chrome=132.0.6834.110)\nStacktrace:\n#0 0x564a6107e53a <unknown>\n#1 0x564a60b79d5d <unknown>\n#2 0x564a60b618d4 <unknown>\n#3 0x564a60b5fda5 <unknown>\n#4 0x564a60b604ca <unknown>\n#5 0x564a60b7c879 <unknown>\n#6 0x564a60c0dbf5 <unknown>\n#7 0x564a60bee5a2 <unknown>\n#8 0x564a60c0cf84 <unknown>\n#9 0x564a60bee343 <unknown>\n#10 0x564a60bbb78a <unknown>\n#11 0x564a60bbc9de <unknown>\n#12 0x564a610482cb <unknown>\n#13 0x564a6104c242 <unknown>\n#14 0x564a610357ac <unknown>\n#15 0x564a6104cdf7 <unknown>\n#16 0x564a61019b2f <unknown>\n#17 0x564a6106d1a8 <unknown>\n#18 0x564a6106d370 <unknown>\n#19 0x564a6107d3b6 <unknown>\n#20 0x734b6ec94ac3 <unknown>\n"
     ]
    }
   ],
   "source": [
    "url_do_imovel = \"http://www.imovelweb.com.br/casas-apartamentos-aluguel-sao-paulo-sp.html?utm_source=google&utm_medium=cpc&utm_campaign=Search_BrandTerms&utm_content=Brand_Term&utm_term=imovelweb&iv_=__iv_p_1_a_14183648872_g_131270747251_w_kwd-17894427_h_9196029_ii__d_c_v__n_g_c_537751034622_k_imovelweb_m_b_l__t__e__r__vi__&gad_source=1\"\n",
    "chrome_options = Options()\n",
    "chrome_options.add_argument(\"user-agent=Mozilla/5.0 (Windows NT 10.0; Win64; x64) AppleWebKit/537.36 (KHTML, like Gecko) Chrome/122.0.0.0 Safari/537.36\")\n",
    "chrome_options.add_argument(\"--disable-blink-features=AutomationControlled\")\n",
    "chrome_options.add_experimental_option(\"excludeSwitches\", [\"enable-automation\"])\n",
    "chrome_options.add_experimental_option(\"useAutomationExtension\", False)\n",
    "driver = webdriver.Chrome(service=Service(ChromeDriverManager().install()), options=chrome_options)\n",
    "driver.get(url_do_imovel)\n",
    "sleep(random.uniform(3, 8))\n",
    "driver.execute_script(\"window.scrollTo(0, document.body.scrollHeight);\")\n",
    "driver.get(\"www.imovelweb.com.br/propriedades/apartamento-com-3-dormitorios-sendo-1-suite-para-3002370897.html\")"
   ]
  },
  {
   "cell_type": "code",
   "execution_count": 47,
   "metadata": {},
   "outputs": [
    {
     "ename": "NoSuchElementException",
     "evalue": "Message: no such element: Unable to locate element: {\"method\":\"xpath\",\"selector\":\"//iframe[@title=\"reCAPTCHA\"]\"}\n  (Session info: chrome=132.0.6834.110); For documentation on this error, please visit: https://www.selenium.dev/documentation/webdriver/troubleshooting/errors#no-such-element-exception\nStacktrace:\n#0 0x56d2ad70f53a <unknown>\n#1 0x56d2ad20af00 <unknown>\n#2 0x56d2ad25ac0c <unknown>\n#3 0x56d2ad25ae31 <unknown>\n#4 0x56d2ad2a0bd4 <unknown>\n#5 0x56d2ad27f5cd <unknown>\n#6 0x56d2ad29df84 <unknown>\n#7 0x56d2ad27f343 <unknown>\n#8 0x56d2ad24c78a <unknown>\n#9 0x56d2ad24d9de <unknown>\n#10 0x56d2ad6d92cb <unknown>\n#11 0x56d2ad6dd242 <unknown>\n#12 0x56d2ad6c67ac <unknown>\n#13 0x56d2ad6dddf7 <unknown>\n#14 0x56d2ad6aab2f <unknown>\n#15 0x56d2ad6fe1a8 <unknown>\n#16 0x56d2ad6fe370 <unknown>\n#17 0x56d2ad70e3b6 <unknown>\n#18 0x791b3a894ac3 <unknown>\n",
     "output_type": "error",
     "traceback": [
      "\u001b[0;31m---------------------------------------------------------------------------\u001b[0m",
      "\u001b[0;31mNoSuchElementException\u001b[0m                    Traceback (most recent call last)",
      "Cell \u001b[0;32mIn[47], line 33\u001b[0m\n\u001b[1;32m     30\u001b[0m action \u001b[38;5;241m=\u001b[39m ActionChains(driver)\n\u001b[1;32m     32\u001b[0m \u001b[38;5;66;03m# Localiza o elemento do reCAPTCHA\u001b[39;00m\n\u001b[0;32m---> 33\u001b[0m captcha_element \u001b[38;5;241m=\u001b[39m \u001b[43mdriver\u001b[49m\u001b[38;5;241;43m.\u001b[39;49m\u001b[43mfind_element\u001b[49m\u001b[43m(\u001b[49m\u001b[43mBy\u001b[49m\u001b[38;5;241;43m.\u001b[39;49m\u001b[43mXPATH\u001b[49m\u001b[43m,\u001b[49m\u001b[43m \u001b[49m\u001b[38;5;124;43m'\u001b[39;49m\u001b[38;5;124;43m//iframe[@title=\u001b[39;49m\u001b[38;5;124;43m\"\u001b[39;49m\u001b[38;5;124;43mreCAPTCHA\u001b[39;49m\u001b[38;5;124;43m\"\u001b[39;49m\u001b[38;5;124;43m]\u001b[39;49m\u001b[38;5;124;43m'\u001b[39;49m\u001b[43m)\u001b[49m\n\u001b[1;32m     35\u001b[0m \u001b[38;5;66;03m# Move o mouse para o captcha e simula um clique\u001b[39;00m\n\u001b[1;32m     36\u001b[0m action\u001b[38;5;241m.\u001b[39mmove_to_element(captcha_element)\u001b[38;5;241m.\u001b[39mperform()\n",
      "File \u001b[0;32m~/.local/lib/python3.12/site-packages/selenium/webdriver/remote/webdriver.py:898\u001b[0m, in \u001b[0;36mWebDriver.find_element\u001b[0;34m(self, by, value)\u001b[0m\n\u001b[1;32m    895\u001b[0m         \u001b[38;5;28;01mraise\u001b[39;00m NoSuchElementException(\u001b[38;5;124mf\u001b[39m\u001b[38;5;124m\"\u001b[39m\u001b[38;5;124mCannot locate relative element with: \u001b[39m\u001b[38;5;132;01m{\u001b[39;00mby\u001b[38;5;241m.\u001b[39mroot\u001b[38;5;132;01m}\u001b[39;00m\u001b[38;5;124m\"\u001b[39m)\n\u001b[1;32m    896\u001b[0m     \u001b[38;5;28;01mreturn\u001b[39;00m elements[\u001b[38;5;241m0\u001b[39m]\n\u001b[0;32m--> 898\u001b[0m \u001b[38;5;28;01mreturn\u001b[39;00m \u001b[38;5;28;43mself\u001b[39;49m\u001b[38;5;241;43m.\u001b[39;49m\u001b[43mexecute\u001b[49m\u001b[43m(\u001b[49m\u001b[43mCommand\u001b[49m\u001b[38;5;241;43m.\u001b[39;49m\u001b[43mFIND_ELEMENT\u001b[49m\u001b[43m,\u001b[49m\u001b[43m \u001b[49m\u001b[43m{\u001b[49m\u001b[38;5;124;43m\"\u001b[39;49m\u001b[38;5;124;43musing\u001b[39;49m\u001b[38;5;124;43m\"\u001b[39;49m\u001b[43m:\u001b[49m\u001b[43m \u001b[49m\u001b[43mby\u001b[49m\u001b[43m,\u001b[49m\u001b[43m \u001b[49m\u001b[38;5;124;43m\"\u001b[39;49m\u001b[38;5;124;43mvalue\u001b[39;49m\u001b[38;5;124;43m\"\u001b[39;49m\u001b[43m:\u001b[49m\u001b[43m \u001b[49m\u001b[43mvalue\u001b[49m\u001b[43m}\u001b[49m\u001b[43m)\u001b[49m[\u001b[38;5;124m\"\u001b[39m\u001b[38;5;124mvalue\u001b[39m\u001b[38;5;124m\"\u001b[39m]\n",
      "File \u001b[0;32m~/.local/lib/python3.12/site-packages/selenium/webdriver/remote/webdriver.py:429\u001b[0m, in \u001b[0;36mWebDriver.execute\u001b[0;34m(self, driver_command, params)\u001b[0m\n\u001b[1;32m    427\u001b[0m response \u001b[38;5;241m=\u001b[39m \u001b[38;5;28mself\u001b[39m\u001b[38;5;241m.\u001b[39mcommand_executor\u001b[38;5;241m.\u001b[39mexecute(driver_command, params)\n\u001b[1;32m    428\u001b[0m \u001b[38;5;28;01mif\u001b[39;00m response:\n\u001b[0;32m--> 429\u001b[0m     \u001b[38;5;28;43mself\u001b[39;49m\u001b[38;5;241;43m.\u001b[39;49m\u001b[43merror_handler\u001b[49m\u001b[38;5;241;43m.\u001b[39;49m\u001b[43mcheck_response\u001b[49m\u001b[43m(\u001b[49m\u001b[43mresponse\u001b[49m\u001b[43m)\u001b[49m\n\u001b[1;32m    430\u001b[0m     response[\u001b[38;5;124m\"\u001b[39m\u001b[38;5;124mvalue\u001b[39m\u001b[38;5;124m\"\u001b[39m] \u001b[38;5;241m=\u001b[39m \u001b[38;5;28mself\u001b[39m\u001b[38;5;241m.\u001b[39m_unwrap_value(response\u001b[38;5;241m.\u001b[39mget(\u001b[38;5;124m\"\u001b[39m\u001b[38;5;124mvalue\u001b[39m\u001b[38;5;124m\"\u001b[39m, \u001b[38;5;28;01mNone\u001b[39;00m))\n\u001b[1;32m    431\u001b[0m     \u001b[38;5;28;01mreturn\u001b[39;00m response\n",
      "File \u001b[0;32m~/.local/lib/python3.12/site-packages/selenium/webdriver/remote/errorhandler.py:232\u001b[0m, in \u001b[0;36mErrorHandler.check_response\u001b[0;34m(self, response)\u001b[0m\n\u001b[1;32m    230\u001b[0m         alert_text \u001b[38;5;241m=\u001b[39m value[\u001b[38;5;124m\"\u001b[39m\u001b[38;5;124malert\u001b[39m\u001b[38;5;124m\"\u001b[39m]\u001b[38;5;241m.\u001b[39mget(\u001b[38;5;124m\"\u001b[39m\u001b[38;5;124mtext\u001b[39m\u001b[38;5;124m\"\u001b[39m)\n\u001b[1;32m    231\u001b[0m     \u001b[38;5;28;01mraise\u001b[39;00m exception_class(message, screen, stacktrace, alert_text)  \u001b[38;5;66;03m# type: ignore[call-arg]  # mypy is not smart enough here\u001b[39;00m\n\u001b[0;32m--> 232\u001b[0m \u001b[38;5;28;01mraise\u001b[39;00m exception_class(message, screen, stacktrace)\n",
      "\u001b[0;31mNoSuchElementException\u001b[0m: Message: no such element: Unable to locate element: {\"method\":\"xpath\",\"selector\":\"//iframe[@title=\"reCAPTCHA\"]\"}\n  (Session info: chrome=132.0.6834.110); For documentation on this error, please visit: https://www.selenium.dev/documentation/webdriver/troubleshooting/errors#no-such-element-exception\nStacktrace:\n#0 0x56d2ad70f53a <unknown>\n#1 0x56d2ad20af00 <unknown>\n#2 0x56d2ad25ac0c <unknown>\n#3 0x56d2ad25ae31 <unknown>\n#4 0x56d2ad2a0bd4 <unknown>\n#5 0x56d2ad27f5cd <unknown>\n#6 0x56d2ad29df84 <unknown>\n#7 0x56d2ad27f343 <unknown>\n#8 0x56d2ad24c78a <unknown>\n#9 0x56d2ad24d9de <unknown>\n#10 0x56d2ad6d92cb <unknown>\n#11 0x56d2ad6dd242 <unknown>\n#12 0x56d2ad6c67ac <unknown>\n#13 0x56d2ad6dddf7 <unknown>\n#14 0x56d2ad6aab2f <unknown>\n#15 0x56d2ad6fe1a8 <unknown>\n#16 0x56d2ad6fe370 <unknown>\n#17 0x56d2ad70e3b6 <unknown>\n#18 0x791b3a894ac3 <unknown>\n"
     ]
    }
   ],
   "source": [
    "from selenium import webdriver\n",
    "from selenium.webdriver.common.by import By\n",
    "from selenium.webdriver.chrome.service import Service\n",
    "from selenium.webdriver.chrome.options import Options\n",
    "from selenium.webdriver.common.action_chains import ActionChains\n",
    "import random\n",
    "import time\n",
    "from webdriver_manager.chrome import ChromeDriverManager\n",
    "\n",
    "# URL do imóvel\n",
    "url_do_imovel = \"https://www.imovelweb.com.br\"\n",
    "\n",
    "# Configurações do Chrome\n",
    "chrome_options = Options()\n",
    "chrome_options.add_argument(\"user-agent=Mozilla/5.0 (Windows NT 10.0; Win64; x64) AppleWebKit/537.36 (KHTML, like Gecko) Chrome/122.0.0.0 Safari/537.36\")\n",
    "chrome_options.add_argument(\"--disable-blink-features=AutomationControlled\")\n",
    "chrome_options.add_experimental_option(\"excludeSwitches\", [\"enable-automation\"])\n",
    "chrome_options.add_experimental_option(\"useAutomationExtension\", False)\n",
    "\n",
    "# Inicializa o WebDriver\n",
    "driver = webdriver.Chrome(service=Service(ChromeDriverManager().install()), options=chrome_options)\n",
    "\n",
    "# Acessa a página\n",
    "driver.get(url_do_imovel)\n",
    "\n",
    "# Aguarda a página carregar\n",
    "time.sleep(random.uniform(3, 8))\n",
    "driver.get(\"https://www.imovelweb.com.br/noticias/guia-de-cidades/melhores-cidades-para-morar-no-brasil/\")\n",
    "# Simula o movimento do mouse e o clique no botão do reCAPTCHA\n",
    "action = ActionChains(driver)\n",
    "\n",
    "# Localiza o elemento do reCAPTCHA\n",
    "captcha_element = driver.find_element(By.XPATH, '//iframe[@title=\"reCAPTCHA\"]')\n",
    "\n",
    "# Move o mouse para o captcha e simula um clique\n",
    "action.move_to_element(captcha_element).perform()\n",
    "time.sleep(random.uniform(1, 3))  # Simula um atraso aleatório\n",
    "action.click(captcha_element).perform()\n",
    "\n",
    "# Pode adicionar mais interações se necessário, como esperar que o captcha seja resolvido ou continuar com a navegação\n"
   ]
  },
  {
   "cell_type": "code",
   "execution_count": 42,
   "metadata": {},
   "outputs": [
    {
     "name": "stdout",
     "output_type": "stream",
     "text": [
      "Defaulting to user installation because normal site-packages is not writeable\n",
      "Requirement already satisfied: webdriver-manager in /home/larifq/.local/lib/python3.12/site-packages (4.0.2)\n",
      "Requirement already satisfied: requests in /home/larifq/.local/lib/python3.12/site-packages (from webdriver-manager) (2.32.3)\n",
      "Requirement already satisfied: python-dotenv in /home/larifq/.local/lib/python3.12/site-packages (from webdriver-manager) (1.0.1)\n",
      "Requirement already satisfied: packaging in /home/larifq/.local/lib/python3.12/site-packages (from webdriver-manager) (24.2)\n",
      "Requirement already satisfied: charset-normalizer<4,>=2 in /home/larifq/.local/lib/python3.12/site-packages (from requests->webdriver-manager) (3.4.1)\n",
      "Requirement already satisfied: idna<4,>=2.5 in /home/larifq/.local/lib/python3.12/site-packages (from requests->webdriver-manager) (3.10)\n",
      "Requirement already satisfied: urllib3<3,>=1.21.1 in /home/larifq/.local/lib/python3.12/site-packages (from requests->webdriver-manager) (1.26.20)\n",
      "Requirement already satisfied: certifi>=2017.4.17 in /home/larifq/.local/lib/python3.12/site-packages (from requests->webdriver-manager) (2024.12.14)\n",
      "\n",
      "\u001b[1m[\u001b[0m\u001b[34;49mnotice\u001b[0m\u001b[1;39;49m]\u001b[0m\u001b[39;49m A new release of pip is available: \u001b[0m\u001b[31;49m24.3.1\u001b[0m\u001b[39;49m -> \u001b[0m\u001b[32;49m25.0.1\u001b[0m\n",
      "\u001b[1m[\u001b[0m\u001b[34;49mnotice\u001b[0m\u001b[1;39;49m]\u001b[0m\u001b[39;49m To update, run: \u001b[0m\u001b[32;49m/usr/local/bin/python3.12 -m pip install --upgrade pip\u001b[0m\n"
     ]
    }
   ],
   "source": [
    "!pip install webdriver-manager"
   ]
  },
  {
   "cell_type": "code",
   "execution_count": 46,
   "metadata": {},
   "outputs": [
    {
     "name": "stdout",
     "output_type": "stream",
     "text": [
      "Não foi possível resolver o CAPTCHA.\n"
     ]
    }
   ],
   "source": [
    "from selenium import webdriver\n",
    "from selenium.webdriver.common.by import By\n",
    "from selenium.webdriver.common.keys import Keys\n",
    "import requests\n",
    "import time\n",
    "\n",
    "def solve_captcha(api_key, site_key, url):\n",
    "    url_2captcha = \"http://2captcha.com/in.php\"\n",
    "    params = {\n",
    "        'key': api_key,\n",
    "        'method': 'userrecaptcha',\n",
    "        'googlekey': site_key,  # Pegue o site_key do reCAPTCHA da página\n",
    "        'pageurl': url  # Insira aqui a URL da página que contém o reCAPTCHA\n",
    "    }\n",
    "\n",
    "    response = requests.post(url_2captcha, data=params)\n",
    "    request_result = response.text\n",
    "\n",
    "    if 'OK|' in request_result:\n",
    "        captcha_id = request_result.split('|')[1]\n",
    "        result_url = f\"http://2captcha.com/res.php?key={api_key}&action=get&id={captcha_id}\"\n",
    "        \n",
    "        # Espera a solução do CAPTCHA\n",
    "        for _ in range(15):  # Tenta por 15 segundos\n",
    "            captcha_response = requests.get(result_url)\n",
    "            if 'OK|' in captcha_response.text:\n",
    "                return captcha_response.text.split('|')[1]\n",
    "            time.sleep(5)\n",
    "    return None\n",
    "\n",
    "# Exemplo de uso:\n",
    "api_key = 'SUA_CHAVE_API_DO_2CAPTCHA'\n",
    "site_key = 'site-key-do-recaptcha'  # Pegue esse valor da página inspecionada\n",
    "url = 'https://www.imovelweb.com.br/'  # Aqui você coloca a URL que deseja acessar\n",
    "\n",
    "# Resolve o CAPTCHA\n",
    "captcha_solution = solve_captcha(api_key, site_key, url)\n",
    "\n",
    "if captcha_solution:\n",
    "    print(f\"Solução do CAPTCHA: {captcha_solution}\")\n",
    "    \n",
    "    # Agora, use o Selenium para preencher o reCAPTCHA com a solução\n",
    "    driver = webdriver.Chrome()  # Inicie o navegador com o Selenium\n",
    "    driver.get(url)  # Acesse o site com o reCAPTCHA\n",
    "\n",
    "    # Localize o iframe do reCAPTCHA\n",
    "    captcha_frame = driver.find_element(By.XPATH, \"//iframe[contains(@src, 'google.com/recaptcha')]\")\n",
    "    driver.switch_to.frame(captcha_frame)\n",
    "\n",
    "    # Localize o campo do reCAPTCHA e insira a solução (token)\n",
    "    recaptcha_response_field = driver.find_element(By.XPATH, \"//textarea[@id='g-recaptcha-response']\")\n",
    "    driver.execute_script(f\"arguments[0].innerHTML = '{captcha_solution}';\", recaptcha_response_field)\n",
    "\n",
    "    # Volte para o contexto principal\n",
    "    driver.switch_to.default_content()\n",
    "\n",
    "    # Submeta o formulário (se houver)\n",
    "    submit_button = driver.find_element(By.XPATH, \"//button[@type='submit']\")\n",
    "    submit_button.click()\n",
    "\n",
    "    # Agora, você pode continuar a navegação após o CAPTCHA ser resolvido\n",
    "    time.sleep(5)  # Aguardar a próxima ação ou carregar a página\n",
    "\n",
    "else:\n",
    "    print(\"Não foi possível resolver o CAPTCHA.\")\n"
   ]
  }
 ],
 "metadata": {
  "kernelspec": {
   "display_name": "Python 3",
   "language": "python",
   "name": "python3"
  },
  "language_info": {
   "codemirror_mode": {
    "name": "ipython",
    "version": 3
   },
   "file_extension": ".py",
   "mimetype": "text/x-python",
   "name": "python",
   "nbconvert_exporter": "python",
   "pygments_lexer": "ipython3",
   "version": "3.12.1"
  }
 },
 "nbformat": 4,
 "nbformat_minor": 2
}
